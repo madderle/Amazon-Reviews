{
 "cells": [
  {
   "cell_type": "markdown",
   "metadata": {},
   "source": [
    "# Amazon Reviews\n",
    "\n",
    "The goal is to create a model to algorithmically predict if a review is positive or negative just based on its text. Try to see how these reviews compare across categories. Does a review classification model for one category work for another?"
   ]
  },
  {
   "cell_type": "markdown",
   "metadata": {},
   "source": [
    "### Plan\n",
    "1. Will use a Bernoulli Naive Bayes model since its a binary classifier and just trying to determing positive or not positive.\n",
    "2. The key metric will be accuracy. Satisficing metrics will be precision, recall and F1.\n",
    "3. Use mainly Naive Bayes, but check against another one Random Forest\n",
    "4. Will have to look at dealing with sampling. Since it will be unbalanced.\n",
    "5. Will perform feature engineer to find the best words associated with positive rating, and negative ratings. (Will do Simple NLP)\n",
    "6. Will then do a select k best to select the best features.\n",
    "7. Will perform a grid search to find the best parameters for the model, and do some hyper parameter searching.\n",
    "8. Then see if we can improve the model with bagging and boosting."
   ]
  },
  {
   "cell_type": "markdown",
   "metadata": {},
   "source": [
    "## Naive Bayes\n",
    "\n",
    "Bayes Theorem covers the probabilistic relationship between multiple variables, and specifically allows us to define one conditional in terms of the underlying probabilities and the inverse condition. Specifically, it can be defined as:\n",
    "\n",
    "$$P(y|x) = P(y)P(x|y)/P(x)$$\n",
    "\n",
    "In English this reads as \"the probability of y given x equals the probability of y times the probability of x given y divided by the probability of x.\"\n",
    "\n",
    "\n",
    "This theorem can be extended to when x is a vector (containing the multiple x variables used as inputs for the model) to:\n",
    "\n",
    "$$P(y|x_1,...,x_n) = P(y)P(x_1,...,x_n|y)/P(x_1,...,x_n)$$\n",
    "\n",
    "This explains the relationship of an outcome to a vector of conditions rather than to a single other event. Recall that this can be read as the probability of y, in the case of our model the categorical outcome we’re interested in, given a set of observations is equal to the probability of that set of observations given y divided by the probability of that set of outcomes.\n",
    "\n",
    "\n",
    "#### Assumptions\n",
    "1. Assume the variables are independent.\n",
    "2. Wont handle new data, so the training set needs to be actually representative of what going to see. So any new words wont be handled."
   ]
  },
  {
   "cell_type": "markdown",
   "metadata": {},
   "source": [
    "### Conclusion\n",
    "\n",
    "After lot of feature engineering and model comparisons, the review text alone isnt conducive to accurately predicting if its a positive review or not. If we want to focus on one class, then we could skew the dataset to reflect that.\n",
    "\n",
    "Additionally, I created a Docker workflow system, where I can try things out locally, and since NLP libraries were taking a while. I simply spun up a more powerul EC2 instance, and was able to iterate on the analysis a lot quicker."
   ]
  },
  {
   "cell_type": "code",
   "execution_count": 73,
   "metadata": {},
   "outputs": [],
   "source": [
    "########### Imports #################\n",
    "# Basic Imports\n",
    "import numpy as np\n",
    "import pandas as pd\n",
    "import scipy\n",
    "from collections import Counter\n",
    "import warnings\n",
    "warnings.filterwarnings('ignore')\n",
    "\n",
    "# Plotting\n",
    "import matplotlib.pyplot as plt\n",
    "import seaborn as sns\n",
    "%matplotlib inline\n",
    "\n",
    "# Model Infrastructure\n",
    "from sklearn.grid_search import GridSearchCV\n",
    "from sklearn.feature_selection import SelectKBest\n",
    "from sklearn.feature_selection import chi2, f_classif\n",
    "from sklearn.utils import resample\n",
    "import time\n",
    "from sklearn.model_selection import train_test_split\n",
    "from sklearn.metrics import confusion_matrix\n",
    "from sklearn.metrics import classification_report\n",
    "import boto3\n",
    "import io\n",
    "\n",
    "# Language processing\n",
    "import nltk\n",
    "#nltk.download()\n",
    "import spacy\n",
    "\n",
    "# Speed up tokenizing by disabling objects in the pipeline\n",
    "nlp = spacy.load('en', disable=['parser', 'tagger','ner','textcat'])\n",
    "#nlp = spacy.load('en')\n",
    "\n",
    "# Model\n",
    "from sklearn.naive_bayes import BernoulliNB\n",
    "from sklearn.ensemble import BaggingClassifier\n",
    "from sklearn.ensemble import AdaBoostClassifier\n",
    "from sklearn.ensemble import RandomForestClassifier\n"
   ]
  },
  {
   "cell_type": "code",
   "execution_count": 2,
   "metadata": {},
   "outputs": [
    {
     "data": {
      "text/html": [
       "<div>\n",
       "<style scoped>\n",
       "    .dataframe tbody tr th:only-of-type {\n",
       "        vertical-align: middle;\n",
       "    }\n",
       "\n",
       "    .dataframe tbody tr th {\n",
       "        vertical-align: top;\n",
       "    }\n",
       "\n",
       "    .dataframe thead th {\n",
       "        text-align: right;\n",
       "    }\n",
       "</style>\n",
       "<table border=\"1\" class=\"dataframe\">\n",
       "  <thead>\n",
       "    <tr style=\"text-align: right;\">\n",
       "      <th></th>\n",
       "      <th>asin</th>\n",
       "      <th>helpful</th>\n",
       "      <th>overall</th>\n",
       "      <th>reviewText</th>\n",
       "      <th>reviewTime</th>\n",
       "      <th>reviewerID</th>\n",
       "      <th>reviewerName</th>\n",
       "      <th>summary</th>\n",
       "      <th>unixReviewTime</th>\n",
       "    </tr>\n",
       "  </thead>\n",
       "  <tbody>\n",
       "    <tr>\n",
       "      <th>0</th>\n",
       "      <td>1881509818</td>\n",
       "      <td>[0, 0]</td>\n",
       "      <td>5</td>\n",
       "      <td>This came in on time and I am veru happy with ...</td>\n",
       "      <td>01 26, 2014</td>\n",
       "      <td>AIXZKN4ACSKI</td>\n",
       "      <td>David Briner</td>\n",
       "      <td>Woks very good</td>\n",
       "      <td>1390694400</td>\n",
       "    </tr>\n",
       "    <tr>\n",
       "      <th>1</th>\n",
       "      <td>1881509818</td>\n",
       "      <td>[1, 1]</td>\n",
       "      <td>5</td>\n",
       "      <td>I had a factory Glock tool that I was using fo...</td>\n",
       "      <td>02 2, 2012</td>\n",
       "      <td>A1L5P841VIO02V</td>\n",
       "      <td>Jason A. Kramer</td>\n",
       "      <td>Works as well as the factory tool</td>\n",
       "      <td>1328140800</td>\n",
       "    </tr>\n",
       "    <tr>\n",
       "      <th>2</th>\n",
       "      <td>1881509818</td>\n",
       "      <td>[2, 2]</td>\n",
       "      <td>4</td>\n",
       "      <td>If you don't have a 3/32 punch or would like t...</td>\n",
       "      <td>02 28, 2012</td>\n",
       "      <td>AB2W04NI4OEAD</td>\n",
       "      <td>J. Fernald</td>\n",
       "      <td>It's a punch, that's all.</td>\n",
       "      <td>1330387200</td>\n",
       "    </tr>\n",
       "    <tr>\n",
       "      <th>3</th>\n",
       "      <td>1881509818</td>\n",
       "      <td>[0, 0]</td>\n",
       "      <td>4</td>\n",
       "      <td>This works no better than any 3/32 punch you w...</td>\n",
       "      <td>02 5, 2012</td>\n",
       "      <td>A148SVSWKTJKU6</td>\n",
       "      <td>Jusitn A. Watts \"Maverick9614\"</td>\n",
       "      <td>It's a punch with a Glock logo.</td>\n",
       "      <td>1328400000</td>\n",
       "    </tr>\n",
       "    <tr>\n",
       "      <th>4</th>\n",
       "      <td>1881509818</td>\n",
       "      <td>[0, 0]</td>\n",
       "      <td>4</td>\n",
       "      <td>I purchased this thinking maybe I need a speci...</td>\n",
       "      <td>04 23, 2013</td>\n",
       "      <td>AAAWJ6LW9WMOO</td>\n",
       "      <td>Material Man</td>\n",
       "      <td>Ok,tool does what a regular punch does.</td>\n",
       "      <td>1366675200</td>\n",
       "    </tr>\n",
       "  </tbody>\n",
       "</table>\n",
       "</div>"
      ],
      "text/plain": [
       "         asin helpful  overall  \\\n",
       "0  1881509818  [0, 0]        5   \n",
       "1  1881509818  [1, 1]        5   \n",
       "2  1881509818  [2, 2]        4   \n",
       "3  1881509818  [0, 0]        4   \n",
       "4  1881509818  [0, 0]        4   \n",
       "\n",
       "                                          reviewText   reviewTime  \\\n",
       "0  This came in on time and I am veru happy with ...  01 26, 2014   \n",
       "1  I had a factory Glock tool that I was using fo...   02 2, 2012   \n",
       "2  If you don't have a 3/32 punch or would like t...  02 28, 2012   \n",
       "3  This works no better than any 3/32 punch you w...   02 5, 2012   \n",
       "4  I purchased this thinking maybe I need a speci...  04 23, 2013   \n",
       "\n",
       "       reviewerID                    reviewerName  \\\n",
       "0    AIXZKN4ACSKI                    David Briner   \n",
       "1  A1L5P841VIO02V                 Jason A. Kramer   \n",
       "2   AB2W04NI4OEAD                      J. Fernald   \n",
       "3  A148SVSWKTJKU6  Jusitn A. Watts \"Maverick9614\"   \n",
       "4   AAAWJ6LW9WMOO                    Material Man   \n",
       "\n",
       "                                   summary  unixReviewTime  \n",
       "0                           Woks very good      1390694400  \n",
       "1        Works as well as the factory tool      1328140800  \n",
       "2                It's a punch, that's all.      1330387200  \n",
       "3          It's a punch with a Glock logo.      1328400000  \n",
       "4  Ok,tool does what a regular punch does.      1366675200  "
      ]
     },
     "execution_count": 2,
     "metadata": {},
     "output_type": "execute_result"
    }
   ],
   "source": [
    "########## Bring in Data ###############\n",
    "\n",
    "#Connect with S3\n",
    "client = boto3.client('s3')\n",
    "obj = client.get_object(Bucket='data-science-project-data', Key='Amazon_Reviews/reviews_Sports_and_Outdoors_5.json')\n",
    "\n",
    "#Converting json to a format that can be used\n",
    "json_data = obj['Body'].read().decode('utf-8')\n",
    "\n",
    "# Pandas Read\n",
    "data = pd.read_json(json_data, lines=True)\n",
    "data.head()"
   ]
  },
  {
   "cell_type": "code",
   "execution_count": 4,
   "metadata": {},
   "outputs": [
    {
     "data": {
      "text/plain": [
       "5    188208\n",
       "4     64809\n",
       "3     24071\n",
       "2     10204\n",
       "1      9045\n",
       "Name: overall, dtype: int64"
      ]
     },
     "execution_count": 4,
     "metadata": {},
     "output_type": "execute_result"
    }
   ],
   "source": [
    "data['overall'].value_counts()"
   ]
  },
  {
   "cell_type": "code",
   "execution_count": 5,
   "metadata": {},
   "outputs": [
    {
     "data": {
      "text/html": [
       "<div>\n",
       "<style scoped>\n",
       "    .dataframe tbody tr th:only-of-type {\n",
       "        vertical-align: middle;\n",
       "    }\n",
       "\n",
       "    .dataframe tbody tr th {\n",
       "        vertical-align: top;\n",
       "    }\n",
       "\n",
       "    .dataframe thead th {\n",
       "        text-align: right;\n",
       "    }\n",
       "</style>\n",
       "<table border=\"1\" class=\"dataframe\">\n",
       "  <thead>\n",
       "    <tr style=\"text-align: right;\">\n",
       "      <th></th>\n",
       "      <th>reviewText</th>\n",
       "      <th>Positive?</th>\n",
       "    </tr>\n",
       "  </thead>\n",
       "  <tbody>\n",
       "    <tr>\n",
       "      <th>0</th>\n",
       "      <td>This came in on time and I am veru happy with ...</td>\n",
       "      <td>1</td>\n",
       "    </tr>\n",
       "    <tr>\n",
       "      <th>1</th>\n",
       "      <td>I had a factory Glock tool that I was using fo...</td>\n",
       "      <td>1</td>\n",
       "    </tr>\n",
       "    <tr>\n",
       "      <th>2</th>\n",
       "      <td>If you don't have a 3/32 punch or would like t...</td>\n",
       "      <td>1</td>\n",
       "    </tr>\n",
       "    <tr>\n",
       "      <th>3</th>\n",
       "      <td>This works no better than any 3/32 punch you w...</td>\n",
       "      <td>1</td>\n",
       "    </tr>\n",
       "    <tr>\n",
       "      <th>4</th>\n",
       "      <td>I purchased this thinking maybe I need a speci...</td>\n",
       "      <td>1</td>\n",
       "    </tr>\n",
       "  </tbody>\n",
       "</table>\n",
       "</div>"
      ],
      "text/plain": [
       "                                          reviewText  Positive?\n",
       "0  This came in on time and I am veru happy with ...          1\n",
       "1  I had a factory Glock tool that I was using fo...          1\n",
       "2  If you don't have a 3/32 punch or would like t...          1\n",
       "3  This works no better than any 3/32 punch you w...          1\n",
       "4  I purchased this thinking maybe I need a speci...          1"
      ]
     },
     "execution_count": 5,
     "metadata": {},
     "output_type": "execute_result"
    }
   ],
   "source": [
    "##### Create Interested Dataset ###########\n",
    "df = data[['reviewText']]\n",
    "\n",
    "# Create Outcome variable of \n",
    "df['Positive?'] = np.where(data['overall']>=4.0,1,0)\n",
    "df.head()"
   ]
  },
  {
   "cell_type": "code",
   "execution_count": 6,
   "metadata": {},
   "outputs": [
    {
     "data": {
      "text/plain": [
       "1    253017\n",
       "0     43320\n",
       "Name: Positive?, dtype: int64"
      ]
     },
     "execution_count": 6,
     "metadata": {},
     "output_type": "execute_result"
    }
   ],
   "source": [
    "# The Dataset is very unbalanced. So have to look out for this. \n",
    "df['Positive?'].value_counts()"
   ]
  },
  {
   "cell_type": "markdown",
   "metadata": {},
   "source": [
    "## Class Balancing"
   ]
  },
  {
   "cell_type": "code",
   "execution_count": 7,
   "metadata": {},
   "outputs": [],
   "source": [
    "#The dataset isnt balanced, so lets undersample the Positive\n",
    "df_positive = df[df['Positive?']==1]\n",
    "df_negative = df[df['Positive?']==0]\n",
    "\n",
    "# Downsample Positive ratings\n",
    "df_positive_downsamples = resample(df_positive, \n",
    "                                 replace=False,    # sample without replacement\n",
    "                                 n_samples=43320,     # to match minority class\n",
    "                                 random_state=123) # reproducible results\n",
    "\n",
    "# Create new dataframe with resampled\n",
    "df_downsampled = pd.concat([df_positive_downsamples, df_negative])"
   ]
  },
  {
   "cell_type": "code",
   "execution_count": 8,
   "metadata": {},
   "outputs": [
    {
     "data": {
      "text/plain": [
       "1    43320\n",
       "0    43320\n",
       "Name: Positive?, dtype: int64"
      ]
     },
     "execution_count": 8,
     "metadata": {},
     "output_type": "execute_result"
    }
   ],
   "source": [
    "#Check the class split\n",
    "df_downsampled['Positive?'].value_counts()"
   ]
  },
  {
   "cell_type": "markdown",
   "metadata": {},
   "source": [
    "## Feature Engineering"
   ]
  },
  {
   "cell_type": "code",
   "execution_count": 9,
   "metadata": {},
   "outputs": [],
   "source": [
    "# Create function to remove the white space\n",
    "def clean_data(text):\n",
    "    return ' '.join(text.split())"
   ]
  },
  {
   "cell_type": "code",
   "execution_count": 10,
   "metadata": {},
   "outputs": [],
   "source": [
    "# Remove white space\n",
    "df_downsampled['Clean Text'] = df_downsampled['reviewText'].apply(lambda x: clean_data(x))"
   ]
  },
  {
   "cell_type": "code",
   "execution_count": 11,
   "metadata": {},
   "outputs": [],
   "source": [
    "# Create tokens, which splits out even the punctuation.\n",
    "\n",
    "# Create function to do this for every review\n",
    "def create_tokens(text):\n",
    "    return nlp(text)"
   ]
  },
  {
   "cell_type": "code",
   "execution_count": 12,
   "metadata": {},
   "outputs": [
    {
     "name": "stdout",
     "output_type": "stream",
     "text": [
      "--- 27.104275941848755 seconds ---\n"
     ]
    }
   ],
   "source": [
    "start_time = time.time()\n",
    "df_downsampled['Tokens'] = df_downsampled['Clean Text'].apply(lambda x: create_tokens(x))\n",
    "print(\"--- %s seconds ---\" % (time.time() - start_time))"
   ]
  },
  {
   "cell_type": "code",
   "execution_count": 13,
   "metadata": {},
   "outputs": [
    {
     "data": {
      "text/html": [
       "<div>\n",
       "<style scoped>\n",
       "    .dataframe tbody tr th:only-of-type {\n",
       "        vertical-align: middle;\n",
       "    }\n",
       "\n",
       "    .dataframe tbody tr th {\n",
       "        vertical-align: top;\n",
       "    }\n",
       "\n",
       "    .dataframe thead th {\n",
       "        text-align: right;\n",
       "    }\n",
       "</style>\n",
       "<table border=\"1\" class=\"dataframe\">\n",
       "  <thead>\n",
       "    <tr style=\"text-align: right;\">\n",
       "      <th></th>\n",
       "      <th>reviewText</th>\n",
       "      <th>Positive?</th>\n",
       "      <th>Clean Text</th>\n",
       "      <th>Tokens</th>\n",
       "    </tr>\n",
       "  </thead>\n",
       "  <tbody>\n",
       "    <tr>\n",
       "      <th>88844</th>\n",
       "      <td>A wee bit pricy, but does the job... no squeak...</td>\n",
       "      <td>1</td>\n",
       "      <td>A wee bit pricy, but does the job... no squeak...</td>\n",
       "      <td>(A, wee, bit, pricy, ,, but, does, the, job, ....</td>\n",
       "    </tr>\n",
       "    <tr>\n",
       "      <th>183720</th>\n",
       "      <td>These are nice tights, very well made.  But th...</td>\n",
       "      <td>1</td>\n",
       "      <td>These are nice tights, very well made. But the...</td>\n",
       "      <td>(These, are, nice, tights, ,, very, well, made...</td>\n",
       "    </tr>\n",
       "    <tr>\n",
       "      <th>209408</th>\n",
       "      <td>Never know when you will reach a place one can...</td>\n",
       "      <td>1</td>\n",
       "      <td>Never know when you will reach a place one can...</td>\n",
       "      <td>(Never, know, when, you, will, reach, a, place...</td>\n",
       "    </tr>\n",
       "    <tr>\n",
       "      <th>249451</th>\n",
       "      <td>It fit nicely on my M4, it arrived 2 days afte...</td>\n",
       "      <td>1</td>\n",
       "      <td>It fit nicely on my M4, it arrived 2 days afte...</td>\n",
       "      <td>(It, fit, nicely, on, my, M4, ,, it, arrived, ...</td>\n",
       "    </tr>\n",
       "    <tr>\n",
       "      <th>75086</th>\n",
       "      <td>Like the video review said, this knife comes f...</td>\n",
       "      <td>1</td>\n",
       "      <td>Like the video review said, this knife comes f...</td>\n",
       "      <td>(Like, the, video, review, said, ,, this, knif...</td>\n",
       "    </tr>\n",
       "  </tbody>\n",
       "</table>\n",
       "</div>"
      ],
      "text/plain": [
       "                                               reviewText  Positive?  \\\n",
       "88844   A wee bit pricy, but does the job... no squeak...          1   \n",
       "183720  These are nice tights, very well made.  But th...          1   \n",
       "209408  Never know when you will reach a place one can...          1   \n",
       "249451  It fit nicely on my M4, it arrived 2 days afte...          1   \n",
       "75086   Like the video review said, this knife comes f...          1   \n",
       "\n",
       "                                               Clean Text  \\\n",
       "88844   A wee bit pricy, but does the job... no squeak...   \n",
       "183720  These are nice tights, very well made. But the...   \n",
       "209408  Never know when you will reach a place one can...   \n",
       "249451  It fit nicely on my M4, it arrived 2 days afte...   \n",
       "75086   Like the video review said, this knife comes f...   \n",
       "\n",
       "                                                   Tokens  \n",
       "88844   (A, wee, bit, pricy, ,, but, does, the, job, ....  \n",
       "183720  (These, are, nice, tights, ,, very, well, made...  \n",
       "209408  (Never, know, when, you, will, reach, a, place...  \n",
       "249451  (It, fit, nicely, on, my, M4, ,, it, arrived, ...  \n",
       "75086   (Like, the, video, review, said, ,, this, knif...  "
      ]
     },
     "execution_count": 13,
     "metadata": {},
     "output_type": "execute_result"
    }
   ],
   "source": [
    "df_downsampled.head()"
   ]
  },
  {
   "cell_type": "markdown",
   "metadata": {},
   "source": [
    "#### Bag of Words"
   ]
  },
  {
   "cell_type": "markdown",
   "metadata": {},
   "source": [
    "We will do bag of words. We will exclude stopwords and punctuation. In addition, in an attempt to keep our feature space from exploding, we will work with lemmas (root words) rather than the raw text terms, and we'll only use the 2000 most common words for each text."
   ]
  },
  {
   "cell_type": "code",
   "execution_count": 14,
   "metadata": {},
   "outputs": [
    {
     "name": "stdout",
     "output_type": "stream",
     "text": [
      "<class 'pandas.core.frame.DataFrame'>\n",
      "Int64Index: 86640 entries, 88844 to 296156\n",
      "Data columns (total 4 columns):\n",
      "reviewText    86640 non-null object\n",
      "Positive?     86640 non-null int64\n",
      "Clean Text    86640 non-null object\n",
      "Tokens        86640 non-null object\n",
      "dtypes: int64(1), object(3)\n",
      "memory usage: 3.3+ MB\n"
     ]
    }
   ],
   "source": [
    "df_downsampled.info()"
   ]
  },
  {
   "cell_type": "code",
   "execution_count": 15,
   "metadata": {},
   "outputs": [
    {
     "name": "stdout",
     "output_type": "stream",
     "text": [
      "--- 20.48040246963501 seconds ---\n"
     ]
    }
   ],
   "source": [
    "# Create to create a bag of words. First have to create bag for all text for positive\n",
    "positive = df_downsampled[df_downsampled['Positive?']==1]\n",
    "negative = df_downsampled[df_downsampled['Positive?']==0]\n",
    "\n",
    "start_time = time.time()\n",
    "# String together all reviews to create a tokenized documents for positive and negative\n",
    "positive_doc = nlp(positive['Clean Text'].str.cat(sep=' '))\n",
    "negative_doc = nlp(negative['Clean Text'].str.cat(sep=' '))\n",
    "print(\"--- %s seconds ---\" % (time.time() - start_time))"
   ]
  },
  {
   "cell_type": "code",
   "execution_count": 63,
   "metadata": {},
   "outputs": [],
   "source": [
    "# Utility function to create a list of the 2000 most common words.\n",
    "def bag_of_words(text):\n",
    "    \n",
    "    # Filter out punctuation and stop words.\n",
    "    allwords = [token.lemma_\n",
    "                for token in text\n",
    "                if not token.is_punct\n",
    "                and not token.is_stop]\n",
    "    \n",
    "    # Return the most common words.\n",
    "    return [item[0] for item in Counter(allwords).most_common(100)]\n",
    "\n",
    "\n",
    "\n",
    "# Creates a data frame with features for each word in our common word set.\n",
    "# Each value is the count of the times the word appears in each sentence.\n",
    "def bow_features(dataframe, common_words, start_time):\n",
    "    \n",
    "    # Scaffold the data frame and initialize counts to zero.\n",
    "    output = pd.DataFrame(columns=common_words)\n",
    "    output['Positive?'] = dataframe['Positive?']\n",
    "    output.loc[:, common_words] = 0\n",
    "    \n",
    "    # Process each row, counting the occurrence of words in each row.\n",
    "    for i, row in enumerate(dataframe['Tokens']):\n",
    "        \n",
    "        # Convert the sentence to lemmas, then filter out punctuation,\n",
    "        # stop words, and uncommon words.\n",
    "        words = [token.lemma_\n",
    "                 for token in row\n",
    "                 if (\n",
    "                     not token.is_punct\n",
    "                     and not token.is_stop\n",
    "                     and token.lemma_ in common_words\n",
    "                 )]\n",
    "        \n",
    "        # Populate the row with word counts.\n",
    "        for word in words:\n",
    "            #Need to handle the key error if not found.\n",
    "            try:\n",
    "                output.loc[i, word] += 1\n",
    "            except:\n",
    "                pass\n",
    "        \n",
    "        # This counter is just to make sure the kernel didn't hang.\n",
    "        if i % 10000 == 0:\n",
    "            print(\"Processing row {}\".format(i))\n",
    "            print(\"--- %s seconds ---\" % (time.time() - start_time))\n",
    "            \n",
    "    return output"
   ]
  },
  {
   "cell_type": "code",
   "execution_count": 64,
   "metadata": {},
   "outputs": [],
   "source": [
    "# Set up the bags.\n",
    "positive_words = bag_of_words(positive_doc)\n",
    "negative_words = bag_of_words(negative_doc)\n",
    "start_time = time.time()\n",
    "# Combine bags to create a set of unique words.\n",
    "common_words = set(positive_words + negative_words)"
   ]
  },
  {
   "cell_type": "code",
   "execution_count": 66,
   "metadata": {},
   "outputs": [
    {
     "name": "stdout",
     "output_type": "stream",
     "text": [
      "Processing row 0\n",
      "--- 4.230454444885254 seconds ---\n",
      "Processing row 10000\n",
      "--- 19.124003648757935 seconds ---\n",
      "Processing row 20000\n",
      "--- 33.95120310783386 seconds ---\n",
      "Processing row 30000\n",
      "--- 49.54160761833191 seconds ---\n",
      "Processing row 40000\n",
      "--- 64.66638088226318 seconds ---\n",
      "Processing row 50000\n",
      "--- 80.8839967250824 seconds ---\n",
      "Processing row 60000\n",
      "--- 97.5363941192627 seconds ---\n",
      "Processing row 70000\n",
      "--- 114.7247109413147 seconds ---\n",
      "Processing row 80000\n",
      "--- 131.4802360534668 seconds ---\n"
     ]
    },
    {
     "data": {
      "text/html": [
       "<div>\n",
       "<style scoped>\n",
       "    .dataframe tbody tr th:only-of-type {\n",
       "        vertical-align: middle;\n",
       "    }\n",
       "\n",
       "    .dataframe tbody tr th {\n",
       "        vertical-align: top;\n",
       "    }\n",
       "\n",
       "    .dataframe thead th {\n",
       "        text-align: right;\n",
       "    }\n",
       "</style>\n",
       "<table border=\"1\" class=\"dataframe\">\n",
       "  <thead>\n",
       "    <tr style=\"text-align: right;\">\n",
       "      <th></th>\n",
       "      <th>large</th>\n",
       "      <th>fit</th>\n",
       "      <th>If</th>\n",
       "      <th>pretty</th>\n",
       "      <th>way</th>\n",
       "      <th>work</th>\n",
       "      <th>nice</th>\n",
       "      <th>-PRON-</th>\n",
       "      <th>find</th>\n",
       "      <th>strap</th>\n",
       "      <th>...</th>\n",
       "      <th>right</th>\n",
       "      <th>love</th>\n",
       "      <th>time</th>\n",
       "      <th>know</th>\n",
       "      <th>hard</th>\n",
       "      <th>You</th>\n",
       "      <th>take</th>\n",
       "      <th>bad</th>\n",
       "      <th>wear</th>\n",
       "      <th>Positive?</th>\n",
       "    </tr>\n",
       "  </thead>\n",
       "  <tbody>\n",
       "    <tr>\n",
       "      <th>88844</th>\n",
       "      <td>0</td>\n",
       "      <td>0</td>\n",
       "      <td>0</td>\n",
       "      <td>0</td>\n",
       "      <td>0</td>\n",
       "      <td>0</td>\n",
       "      <td>0</td>\n",
       "      <td>0</td>\n",
       "      <td>0</td>\n",
       "      <td>0</td>\n",
       "      <td>...</td>\n",
       "      <td>0</td>\n",
       "      <td>0</td>\n",
       "      <td>0</td>\n",
       "      <td>0</td>\n",
       "      <td>0</td>\n",
       "      <td>0</td>\n",
       "      <td>0</td>\n",
       "      <td>0</td>\n",
       "      <td>0</td>\n",
       "      <td>1</td>\n",
       "    </tr>\n",
       "    <tr>\n",
       "      <th>183720</th>\n",
       "      <td>0</td>\n",
       "      <td>0</td>\n",
       "      <td>0</td>\n",
       "      <td>0</td>\n",
       "      <td>0</td>\n",
       "      <td>0</td>\n",
       "      <td>0</td>\n",
       "      <td>0</td>\n",
       "      <td>0</td>\n",
       "      <td>0</td>\n",
       "      <td>...</td>\n",
       "      <td>0</td>\n",
       "      <td>0</td>\n",
       "      <td>0</td>\n",
       "      <td>0</td>\n",
       "      <td>0</td>\n",
       "      <td>0</td>\n",
       "      <td>0</td>\n",
       "      <td>0</td>\n",
       "      <td>0</td>\n",
       "      <td>1</td>\n",
       "    </tr>\n",
       "    <tr>\n",
       "      <th>209408</th>\n",
       "      <td>0</td>\n",
       "      <td>0</td>\n",
       "      <td>0</td>\n",
       "      <td>0</td>\n",
       "      <td>0</td>\n",
       "      <td>0</td>\n",
       "      <td>0</td>\n",
       "      <td>0</td>\n",
       "      <td>0</td>\n",
       "      <td>0</td>\n",
       "      <td>...</td>\n",
       "      <td>0</td>\n",
       "      <td>0</td>\n",
       "      <td>0</td>\n",
       "      <td>0</td>\n",
       "      <td>0</td>\n",
       "      <td>0</td>\n",
       "      <td>0</td>\n",
       "      <td>0</td>\n",
       "      <td>0</td>\n",
       "      <td>1</td>\n",
       "    </tr>\n",
       "    <tr>\n",
       "      <th>249451</th>\n",
       "      <td>0</td>\n",
       "      <td>0</td>\n",
       "      <td>0</td>\n",
       "      <td>0</td>\n",
       "      <td>0</td>\n",
       "      <td>0</td>\n",
       "      <td>0</td>\n",
       "      <td>0</td>\n",
       "      <td>0</td>\n",
       "      <td>0</td>\n",
       "      <td>...</td>\n",
       "      <td>0</td>\n",
       "      <td>0</td>\n",
       "      <td>0</td>\n",
       "      <td>0</td>\n",
       "      <td>0</td>\n",
       "      <td>0</td>\n",
       "      <td>0</td>\n",
       "      <td>0</td>\n",
       "      <td>0</td>\n",
       "      <td>1</td>\n",
       "    </tr>\n",
       "    <tr>\n",
       "      <th>75086</th>\n",
       "      <td>0</td>\n",
       "      <td>0</td>\n",
       "      <td>0</td>\n",
       "      <td>0</td>\n",
       "      <td>0</td>\n",
       "      <td>0</td>\n",
       "      <td>0</td>\n",
       "      <td>1</td>\n",
       "      <td>0</td>\n",
       "      <td>0</td>\n",
       "      <td>...</td>\n",
       "      <td>0</td>\n",
       "      <td>0</td>\n",
       "      <td>0</td>\n",
       "      <td>0</td>\n",
       "      <td>0</td>\n",
       "      <td>0</td>\n",
       "      <td>0</td>\n",
       "      <td>0</td>\n",
       "      <td>0</td>\n",
       "      <td>1</td>\n",
       "    </tr>\n",
       "  </tbody>\n",
       "</table>\n",
       "<p>5 rows × 121 columns</p>\n",
       "</div>"
      ],
      "text/plain": [
       "        large  fit  If  pretty  way  work  nice  -PRON-  find  strap  \\\n",
       "88844       0    0   0       0    0     0     0       0     0      0   \n",
       "183720      0    0   0       0    0     0     0       0     0      0   \n",
       "209408      0    0   0       0    0     0     0       0     0      0   \n",
       "249451      0    0   0       0    0     0     0       0     0      0   \n",
       "75086       0    0   0       0    0     0     0       1     0      0   \n",
       "\n",
       "          ...      right  love  time  know  hard  You  take  bad  wear  \\\n",
       "88844     ...          0     0     0     0     0    0     0    0     0   \n",
       "183720    ...          0     0     0     0     0    0     0    0     0   \n",
       "209408    ...          0     0     0     0     0    0     0    0     0   \n",
       "249451    ...          0     0     0     0     0    0     0    0     0   \n",
       "75086     ...          0     0     0     0     0    0     0    0     0   \n",
       "\n",
       "        Positive?  \n",
       "88844           1  \n",
       "183720          1  \n",
       "209408          1  \n",
       "249451          1  \n",
       "75086           1  \n",
       "\n",
       "[5 rows x 121 columns]"
      ]
     },
     "execution_count": 66,
     "metadata": {},
     "output_type": "execute_result"
    }
   ],
   "source": [
    "# Create our data frame with features. This can take a while to run.\n",
    "word_counts = bow_features(df_downsampled, common_words, time.time())\n",
    "word_counts.head()"
   ]
  },
  {
   "cell_type": "code",
   "execution_count": 22,
   "metadata": {},
   "outputs": [],
   "source": [
    "y = word_counts['Positive?']\n",
    "#X = word_counts[~word_counts['Positive?']]\n",
    "X = word_counts.loc[:, word_counts.columns != 'Positive?']"
   ]
  },
  {
   "cell_type": "markdown",
   "metadata": {},
   "source": [
    "## Select Best Features"
   ]
  },
  {
   "cell_type": "code",
   "execution_count": 67,
   "metadata": {},
   "outputs": [
    {
     "name": "stdout",
     "output_type": "stream",
     "text": [
      "--- 0.7920613288879395 seconds ---\n"
     ]
    }
   ],
   "source": [
    "start_time = time.time()\n",
    "selector = SelectKBest(f_classif, k=50)\n",
    "selector.fit(X,y)\n",
    "\n",
    "idxs_selected = selector.get_support(indices=True)\n",
    "best_features = X[X.columns[idxs_selected]]\n",
    "print(\"--- %s seconds ---\" % (time.time() - start_time))"
   ]
  },
  {
   "cell_type": "code",
   "execution_count": 68,
   "metadata": {},
   "outputs": [
    {
     "data": {
      "text/html": [
       "<div>\n",
       "<style scoped>\n",
       "    .dataframe tbody tr th:only-of-type {\n",
       "        vertical-align: middle;\n",
       "    }\n",
       "\n",
       "    .dataframe tbody tr th {\n",
       "        vertical-align: top;\n",
       "    }\n",
       "\n",
       "    .dataframe thead th {\n",
       "        text-align: right;\n",
       "    }\n",
       "</style>\n",
       "<table border=\"1\" class=\"dataframe\">\n",
       "  <thead>\n",
       "    <tr style=\"text-align: right;\">\n",
       "      <th></th>\n",
       "      <th>car</th>\n",
       "      <th>wrist</th>\n",
       "      <th>allow</th>\n",
       "      <th>kit</th>\n",
       "      <th>foot</th>\n",
       "      <th>step</th>\n",
       "      <th>All</th>\n",
       "      <th>handy</th>\n",
       "      <th>warm</th>\n",
       "      <th>post</th>\n",
       "      <th>...</th>\n",
       "      <th>In</th>\n",
       "      <th>8</th>\n",
       "      <th>mean</th>\n",
       "      <th>center</th>\n",
       "      <th>20</th>\n",
       "      <th>deal</th>\n",
       "      <th>excellent</th>\n",
       "      <th>bike</th>\n",
       "      <th>tube</th>\n",
       "      <th>stuff</th>\n",
       "    </tr>\n",
       "  </thead>\n",
       "  <tbody>\n",
       "    <tr>\n",
       "      <th>88844</th>\n",
       "      <td>0</td>\n",
       "      <td>0</td>\n",
       "      <td>0</td>\n",
       "      <td>0</td>\n",
       "      <td>0</td>\n",
       "      <td>0</td>\n",
       "      <td>0</td>\n",
       "      <td>0</td>\n",
       "      <td>0</td>\n",
       "      <td>0</td>\n",
       "      <td>...</td>\n",
       "      <td>0</td>\n",
       "      <td>0</td>\n",
       "      <td>0</td>\n",
       "      <td>0</td>\n",
       "      <td>0</td>\n",
       "      <td>0</td>\n",
       "      <td>0</td>\n",
       "      <td>0</td>\n",
       "      <td>0</td>\n",
       "      <td>0</td>\n",
       "    </tr>\n",
       "    <tr>\n",
       "      <th>183720</th>\n",
       "      <td>0</td>\n",
       "      <td>0</td>\n",
       "      <td>0</td>\n",
       "      <td>0</td>\n",
       "      <td>0</td>\n",
       "      <td>0</td>\n",
       "      <td>0</td>\n",
       "      <td>0</td>\n",
       "      <td>0</td>\n",
       "      <td>0</td>\n",
       "      <td>...</td>\n",
       "      <td>0</td>\n",
       "      <td>0</td>\n",
       "      <td>0</td>\n",
       "      <td>0</td>\n",
       "      <td>0</td>\n",
       "      <td>0</td>\n",
       "      <td>0</td>\n",
       "      <td>0</td>\n",
       "      <td>0</td>\n",
       "      <td>0</td>\n",
       "    </tr>\n",
       "    <tr>\n",
       "      <th>209408</th>\n",
       "      <td>0</td>\n",
       "      <td>0</td>\n",
       "      <td>0</td>\n",
       "      <td>0</td>\n",
       "      <td>0</td>\n",
       "      <td>0</td>\n",
       "      <td>0</td>\n",
       "      <td>0</td>\n",
       "      <td>0</td>\n",
       "      <td>0</td>\n",
       "      <td>...</td>\n",
       "      <td>0</td>\n",
       "      <td>0</td>\n",
       "      <td>0</td>\n",
       "      <td>0</td>\n",
       "      <td>0</td>\n",
       "      <td>0</td>\n",
       "      <td>0</td>\n",
       "      <td>0</td>\n",
       "      <td>0</td>\n",
       "      <td>0</td>\n",
       "    </tr>\n",
       "    <tr>\n",
       "      <th>249451</th>\n",
       "      <td>0</td>\n",
       "      <td>0</td>\n",
       "      <td>0</td>\n",
       "      <td>0</td>\n",
       "      <td>0</td>\n",
       "      <td>0</td>\n",
       "      <td>0</td>\n",
       "      <td>0</td>\n",
       "      <td>0</td>\n",
       "      <td>0</td>\n",
       "      <td>...</td>\n",
       "      <td>0</td>\n",
       "      <td>0</td>\n",
       "      <td>0</td>\n",
       "      <td>0</td>\n",
       "      <td>0</td>\n",
       "      <td>0</td>\n",
       "      <td>0</td>\n",
       "      <td>0</td>\n",
       "      <td>0</td>\n",
       "      <td>0</td>\n",
       "    </tr>\n",
       "    <tr>\n",
       "      <th>75086</th>\n",
       "      <td>0</td>\n",
       "      <td>0</td>\n",
       "      <td>0</td>\n",
       "      <td>0</td>\n",
       "      <td>0</td>\n",
       "      <td>0</td>\n",
       "      <td>0</td>\n",
       "      <td>0</td>\n",
       "      <td>0</td>\n",
       "      <td>0</td>\n",
       "      <td>...</td>\n",
       "      <td>0</td>\n",
       "      <td>0</td>\n",
       "      <td>0</td>\n",
       "      <td>0</td>\n",
       "      <td>0</td>\n",
       "      <td>0</td>\n",
       "      <td>0</td>\n",
       "      <td>0</td>\n",
       "      <td>0</td>\n",
       "      <td>0</td>\n",
       "    </tr>\n",
       "  </tbody>\n",
       "</table>\n",
       "<p>5 rows × 50 columns</p>\n",
       "</div>"
      ],
      "text/plain": [
       "        car  wrist  allow  kit  foot  step  All  handy  warm  post  ...    In  \\\n",
       "88844     0      0      0    0     0     0    0      0     0     0  ...     0   \n",
       "183720    0      0      0    0     0     0    0      0     0     0  ...     0   \n",
       "209408    0      0      0    0     0     0    0      0     0     0  ...     0   \n",
       "249451    0      0      0    0     0     0    0      0     0     0  ...     0   \n",
       "75086     0      0      0    0     0     0    0      0     0     0  ...     0   \n",
       "\n",
       "        8  mean  center  20  deal  excellent  bike  tube  stuff  \n",
       "88844   0     0       0   0     0          0     0     0      0  \n",
       "183720  0     0       0   0     0          0     0     0      0  \n",
       "209408  0     0       0   0     0          0     0     0      0  \n",
       "249451  0     0       0   0     0          0     0     0      0  \n",
       "75086   0     0       0   0     0          0     0     0      0  \n",
       "\n",
       "[5 rows x 50 columns]"
      ]
     },
     "execution_count": 68,
     "metadata": {},
     "output_type": "execute_result"
    }
   ],
   "source": [
    "best_features.head()"
   ]
  },
  {
   "cell_type": "code",
   "execution_count": 49,
   "metadata": {},
   "outputs": [
    {
     "data": {
      "text/plain": [
       "<matplotlib.axes._subplots.AxesSubplot at 0x7f8408e59be0>"
      ]
     },
     "execution_count": 49,
     "metadata": {},
     "output_type": "execute_result"
    },
    {
     "data": {
      "image/png": "[encoded data removed]",
      "text/plain": [
       "<matplotlib.figure.Figure at 0x7f842395cef0>"
      ]
     },
     "metadata": {},
     "output_type": "display_data"
    }
   ],
   "source": [
    "#Only did this when the number of best features is low\n",
    "sns.heatmap(best_features.corr())"
   ]
  },
  {
   "cell_type": "code",
   "execution_count": 69,
   "metadata": {},
   "outputs": [],
   "source": [
    "#Pull out Train, Dev and Test\n",
    "X_train, X_dev_test, y_train, y_dev_test = train_test_split(best_features,y,test_size=0.4)\n",
    "X_dev, X_test, y_dev, y_test = train_test_split(X_dev_test,y_dev_test,test_size=0.5)"
   ]
  },
  {
   "cell_type": "markdown",
   "metadata": {},
   "source": [
    "### Build Model"
   ]
  },
  {
   "cell_type": "markdown",
   "metadata": {},
   "source": [
    "#### Naive Bayes"
   ]
  },
  {
   "cell_type": "code",
   "execution_count": 70,
   "metadata": {},
   "outputs": [
    {
     "name": "stdout",
     "output_type": "stream",
     "text": [
      "--- 0.25769758224487305 seconds ---\n"
     ]
    }
   ],
   "source": [
    "start_time = time.time()\n",
    "parameters = {\n",
    "    \n",
    "               'alpha': [0.5]\n",
    "              }\n",
    "\n",
    "bnb = BernoulliNB(fit_prior=False)\n",
    "\n",
    "grid = GridSearchCV(bnb, parameters, scoring='accuracy', cv=5, verbose=0)\n",
    "#Fit the Data\n",
    "grid.fit(X_train, y_train)\n",
    "print(\"--- %s seconds ---\" % (time.time() - start_time))"
   ]
  },
  {
   "cell_type": "code",
   "execution_count": 71,
   "metadata": {},
   "outputs": [
    {
     "data": {
      "text/plain": [
       "0.5026738996614343"
      ]
     },
     "execution_count": 71,
     "metadata": {},
     "output_type": "execute_result"
    }
   ],
   "source": [
    "grid.best_score_"
   ]
  },
  {
   "cell_type": "code",
   "execution_count": 72,
   "metadata": {},
   "outputs": [
    {
     "data": {
      "text/plain": [
       "0.5065212373037857"
      ]
     },
     "execution_count": 72,
     "metadata": {},
     "output_type": "execute_result"
    }
   ],
   "source": [
    "grid.score(X_dev, y_dev)"
   ]
  },
  {
   "cell_type": "markdown",
   "metadata": {},
   "source": [
    "Bagging to Improve"
   ]
  },
  {
   "cell_type": "code",
   "execution_count": 56,
   "metadata": {},
   "outputs": [
    {
     "data": {
      "text/plain": [
       "BaggingClassifier(base_estimator=BernoulliNB(alpha=0.5, binarize=0.0, class_prior=None, fit_prior=False),\n",
       "         bootstrap=True, bootstrap_features=False, max_features=1.0,\n",
       "         max_samples=1.0, n_estimators=10, n_jobs=15, oob_score=False,\n",
       "         random_state=None, verbose=0, warm_start=False)"
      ]
     },
     "execution_count": 56,
     "metadata": {},
     "output_type": "execute_result"
    }
   ],
   "source": [
    "bnb = BernoulliNB(fit_prior=False, alpha=0.5)\n",
    "bagging = BaggingClassifier(bnb, n_jobs=15)\n",
    "\n",
    "bagging.fit(X_train, y_train)"
   ]
  },
  {
   "cell_type": "code",
   "execution_count": 57,
   "metadata": {},
   "outputs": [
    {
     "data": {
      "text/plain": [
       "0.5055978762696214"
      ]
     },
     "execution_count": 57,
     "metadata": {},
     "output_type": "execute_result"
    }
   ],
   "source": [
    "bagging.score(X_test, y_test)"
   ]
  },
  {
   "cell_type": "markdown",
   "metadata": {},
   "source": [
    "Boosting to Improve"
   ]
  },
  {
   "cell_type": "code",
   "execution_count": 59,
   "metadata": {},
   "outputs": [
    {
     "name": "stdout",
     "output_type": "stream",
     "text": [
      "0.505713296398892\n",
      "             precision    recall  f1-score   support\n",
      "\n",
      "          0       0.53      0.05      0.09      8611\n",
      "          1       0.50      0.96      0.66      8717\n",
      "\n",
      "avg / total       0.52      0.51      0.38     17328\n",
      "\n"
     ]
    }
   ],
   "source": [
    "boosting = AdaBoostClassifier(bnb, n_estimators=100)\n",
    "boosting.fit(X_train, y_train)\n",
    "print(boosting.score(X_test, y_test))"
   ]
  },
  {
   "cell_type": "markdown",
   "metadata": {},
   "source": [
    "#### Random Forest"
   ]
  },
  {
   "cell_type": "code",
   "execution_count": 74,
   "metadata": {},
   "outputs": [
    {
     "name": "stdout",
     "output_type": "stream",
     "text": [
      "--- 6.6581761837005615 seconds ---\n"
     ]
    }
   ],
   "source": [
    "start_time = time.time()\n",
    "parameters = {\n",
    "    \n",
    "               'max_features': [2, 5, 'auto']\n",
    "              }\n",
    "rfc = RandomForestClassifier()\n",
    "\n",
    "grid = GridSearchCV(rfc, parameters, scoring='accuracy', cv=5, verbose=0)\n",
    "#Fit the Data\n",
    "grid.fit(X_train, y_train)\n",
    "print(\"--- %s seconds ---\" % (time.time() - start_time))\n"
   ]
  },
  {
   "cell_type": "code",
   "execution_count": 75,
   "metadata": {},
   "outputs": [
    {
     "data": {
      "text/plain": [
       "0.5031163434903048"
      ]
     },
     "execution_count": 75,
     "metadata": {},
     "output_type": "execute_result"
    }
   ],
   "source": [
    "grid.score(X_test, y_test)"
   ]
  },
  {
   "cell_type": "code",
   "execution_count": null,
   "metadata": {},
   "outputs": [],
   "source": []
  }
 ],
 "metadata": {
  "kernelspec": {
   "display_name": "Python 3",
   "language": "python",
   "name": "python3"
  },
  "language_info": {
   "codemirror_mode": {
    "name": "ipython",
    "version": 3
   },
   "file_extension": ".py",
   "mimetype": "text/x-python",
   "name": "python",
   "nbconvert_exporter": "python",
   "pygments_lexer": "ipython3",
   "version": "3.6.4"
  }
 },
 "nbformat": 4,
 "nbformat_minor": 2
}
